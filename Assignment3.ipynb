{
 "cells": [
  {
   "cell_type": "code",
   "execution_count": 1,
   "id": "b4c31723-12a9-46e3-b3f0-37a8ca3010a7",
   "metadata": {},
   "outputs": [],
   "source": [
    "#Ans1-> def keyword is used to create a function in python\n",
    "def odd_no(l):\n",
    "    l1=[]\n",
    "    for i in l:\n",
    "        if(i%2!=0):\n",
    "            l1.append(i)\n",
    "    return l1"
   ]
  },
  {
   "cell_type": "code",
   "execution_count": 2,
   "id": "acb7bf78-b88b-4d21-bfc2-807c79ab9f98",
   "metadata": {},
   "outputs": [
    {
     "data": {
      "text/plain": [
       "[1, 3, 5, 7, 9, 11, 13, 15, 17, 19, 21, 23]"
      ]
     },
     "execution_count": 2,
     "metadata": {},
     "output_type": "execute_result"
    }
   ],
   "source": [
    "l=[i for i in range(25)]\n",
    "odd_no(l)"
   ]
  },
  {
   "cell_type": "code",
   "execution_count": 3,
   "id": "0d50da13-edbd-4a1f-85d1-6ecb74880975",
   "metadata": {},
   "outputs": [],
   "source": [
    "#Ans2-> *args=the large number of arguments that can be pass to a function then use *args\n",
    "#**kwargs=the large number of argument using key value pair that can be pass to a function then use **kwargs \n",
    "def add(*args):\n",
    "    sum=0\n",
    "    for n  in args:\n",
    "        sum=sum+n\n",
    "    print(sum)"
   ]
  },
  {
   "cell_type": "code",
   "execution_count": 4,
   "id": "378cd422-871c-4562-870b-8da82f34f719",
   "metadata": {},
   "outputs": [
    {
     "name": "stdout",
     "output_type": "stream",
     "text": [
      "5\n"
     ]
    }
   ],
   "source": [
    "add(2,3)"
   ]
  },
  {
   "cell_type": "code",
   "execution_count": 5,
   "id": "fe15b27d-e89a-40f7-9fe8-cabe1d816755",
   "metadata": {},
   "outputs": [
    {
     "name": "stdout",
     "output_type": "stream",
     "text": [
      "15\n"
     ]
    }
   ],
   "source": [
    "add(1,2,3,4,5)"
   ]
  },
  {
   "cell_type": "code",
   "execution_count": 6,
   "id": "65307b54-6ab2-4537-82da-5dcd4d2062ca",
   "metadata": {},
   "outputs": [
    {
     "name": "stdout",
     "output_type": "stream",
     "text": [
      "55\n"
     ]
    }
   ],
   "source": [
    "add(1,2,3,4,5,6,7,8,9,10)"
   ]
  },
  {
   "cell_type": "code",
   "execution_count": 7,
   "id": "d0500513-0df5-4932-bef1-115a9dae8605",
   "metadata": {},
   "outputs": [
    {
     "name": "stdout",
     "output_type": "stream",
     "text": [
      "first_name is sud\n",
      "last_name is Ansari\n",
      "roll_no is 123\n"
     ]
    }
   ],
   "source": [
    "def student(**kwargs):\n",
    "    for key,value in kwargs.items():\n",
    "        print(\"{} is {}\".format(key,value))\n",
    "\n",
    "student(first_name=\"sud\",last_name=\"Ansari\",roll_no=123)"
   ]
  },
  {
   "cell_type": "code",
   "execution_count": 8,
   "id": "ac33ee7f-e6e2-4572-81d4-ba326aae06eb",
   "metadata": {},
   "outputs": [
    {
     "name": "stdout",
     "output_type": "stream",
     "text": [
      "2\n",
      "4\n",
      "6\n",
      "8\n",
      "10\n",
      "12\n"
     ]
    }
   ],
   "source": [
    "#Ans3-> iterator in python is an object that is used to iterate over iterable objects like list ,tuple,tuple,dict,sets.\n",
    "        #the iterator object is inilized using the iter() method\n",
    "import time\n",
    "l=[2,4,6,8,10,12,14,16,18,20]\n",
    "l_iterator_obj=iter(l)\n",
    "print(next(l_iterator_obj))\n",
    "time.sleep(1)\n",
    "print(next(l_iterator_obj))\n",
    "time.sleep(1)\n",
    "print(next(l_iterator_obj))\n",
    "time.sleep(1)\n",
    "print(next(l_iterator_obj))\n",
    "time.sleep(1)\n",
    "print(next(l_iterator_obj))\n",
    "time.sleep(1)\n",
    "print(next(l_iterator_obj))"
   ]
  },
  {
   "cell_type": "code",
   "execution_count": 9,
   "id": "d493be7f-8dc4-4eae-8c53-c233d624039e",
   "metadata": {},
   "outputs": [
    {
     "name": "stdout",
     "output_type": "stream",
     "text": [
      "1\n",
      "1\n",
      "2\n",
      "3\n",
      "5\n",
      "8\n",
      "13\n",
      "21\n",
      "34\n",
      "55\n"
     ]
    }
   ],
   "source": [
    "#Ans4->Generator function is a function that return an iterator that produce a sequence of values when iterated over.\n",
    "#generator are useful when we want a produce large sequence of values but we don't want store all of them memory at once\n",
    "def fibonacci_no(nums):\n",
    "    x,y=0,1\n",
    "    for _ in range(nums):\n",
    "        x,y=y,x+y\n",
    "        yield x\n",
    "for i in fibonacci_no(10):\n",
    "    print(i)"
   ]
  },
  {
   "cell_type": "code",
   "execution_count": 10,
   "id": "8f1920a0-991c-4f4e-b91a-c84ce7c7308c",
   "metadata": {},
   "outputs": [
    {
     "name": "stdin",
     "output_type": "stream",
     "text": [
      "enter your  number please sir 8\n"
     ]
    },
    {
     "name": "stdout",
     "output_type": "stream",
     "text": [
      "64\n"
     ]
    }
   ],
   "source": [
    "def square(n):\n",
    "    yield n**2\n",
    "n=int(input(\"enter your  number please sir\"))\n",
    "for i in square(n):\n",
    "    print(i)"
   ]
  },
  {
   "cell_type": "code",
   "execution_count": 11,
   "id": "046175e9-119e-4b65-bbc5-bfe9eebd9ab1",
   "metadata": {},
   "outputs": [],
   "source": [
    "#Ans5->\n",
    "from math import sqrt\n",
    "def is_prime(n):\n",
    "    if(n<=1):\n",
    "        return False\n",
    "    if(n==2):\n",
    "        return True\n",
    "    if(n%2==0):\n",
    "        return False\n",
    "    i=3\n",
    "    while(i<=sqrt(n)):\n",
    "        if n%i==0:\n",
    "            return False\n",
    "        i+=2\n",
    "    return True"
   ]
  },
  {
   "cell_type": "code",
   "execution_count": 12,
   "id": "385eafc3-b0e7-4b48-a930-de498170ee45",
   "metadata": {},
   "outputs": [],
   "source": [
    "def prime_generator(limit=1000):\n",
    "    n=2\n",
    "    while True:\n",
    "        if n<limit:\n",
    "            if is_prime(n):\n",
    "                yield n\n",
    "            n+=1\n",
    "        else:\n",
    "            break\n",
    "    "
   ]
  },
  {
   "cell_type": "code",
   "execution_count": 13,
   "id": "bdbfd254-8668-4885-a6dd-00a827b0e309",
   "metadata": {},
   "outputs": [],
   "source": [
    "primelist=list(prime_generator(1000))"
   ]
  },
  {
   "cell_type": "code",
   "execution_count": 14,
   "id": "16bafde9-0fb9-40be-ad5e-a00a9839de2d",
   "metadata": {},
   "outputs": [
    {
     "name": "stdout",
     "output_type": "stream",
     "text": [
      "2\n",
      "3\n",
      "5\n",
      "7\n",
      "11\n",
      "13\n",
      "17\n",
      "19\n",
      "23\n",
      "29\n",
      "31\n",
      "37\n",
      "41\n",
      "43\n",
      "47\n",
      "53\n",
      "59\n",
      "61\n",
      "67\n",
      "71\n"
     ]
    }
   ],
   "source": [
    "l=iter(primelist)\n",
    "for i in range(20):\n",
    "    print(next(l))"
   ]
  },
  {
   "cell_type": "code",
   "execution_count": 15,
   "id": "a4c216bd-3b01-4663-9ad1-e7bfe6c1bf22",
   "metadata": {},
   "outputs": [
    {
     "name": "stdin",
     "output_type": "stream",
     "text": [
      " 6\n"
     ]
    },
    {
     "name": "stdout",
     "output_type": "stream",
     "text": [
      "0\n",
      "1\n",
      "1\n",
      "2\n",
      "3\n",
      "5\n"
     ]
    }
   ],
   "source": [
    "#Ans6->create 10 fibonacci number using whie loop\n",
    "#take n=20 values as a input\n",
    "n=int(input())\n",
    "x,y=0,1\n",
    "count=0\n",
    "while(count<n):\n",
    "    print(x)\n",
    "    c=x+y\n",
    "    #update\n",
    "    x=y\n",
    "    y=c\n",
    "    count+=1\n",
    "    "
   ]
  },
  {
   "cell_type": "code",
   "execution_count": 16,
   "id": "70f9624c-8422-4e5d-9723-b4830ac1cad3",
   "metadata": {},
   "outputs": [
    {
     "name": "stdout",
     "output_type": "stream",
     "text": [
      "['p', 'w', 's', 'k', 'i', 'l', 'l', 's']\n"
     ]
    }
   ],
   "source": [
    "#Ans7->\n",
    "l=[x for x in \"pwskills\"[::]]\n",
    "print(l)"
   ]
  },
  {
   "cell_type": "code",
   "execution_count": 17,
   "id": "7209581c-76dd-46d5-bf9e-e588e4f4c31b",
   "metadata": {},
   "outputs": [
    {
     "name": "stdin",
     "output_type": "stream",
     "text": [
      "enter a number sir 5\n"
     ]
    },
    {
     "name": "stdout",
     "output_type": "stream",
     "text": [
      "number is palindrome\n"
     ]
    }
   ],
   "source": [
    "n=int(input(\"enter a number sir\"))\n",
    "temp=n\n",
    "rev=0\n",
    "while(n>0):\n",
    "    dig=n%10\n",
    "    rev=rev*10+dig\n",
    "    n=n//10\n",
    "if(temp==rev):\n",
    "    print(\"number is palindrome\")\n",
    "else:\n",
    "    print(\"number is not palindrome\")"
   ]
  },
  {
   "cell_type": "code",
   "execution_count": 18,
   "id": "27fe431c-2531-4485-84ea-de94debe1384",
   "metadata": {},
   "outputs": [
    {
     "name": "stdout",
     "output_type": "stream",
     "text": [
      "[1, 3, 5, 7, 9, 11, 13, 15, 17, 19, 21, 23, 25, 27, 29, 31, 33, 35, 37, 39, 41, 43, 45, 47, 49, 51, 53, 55, 57, 59, 61, 63, 65, 67, 69, 71, 73, 75, 77, 79, 81, 83, 85, 87, 89, 91, 93, 95, 97, 99]\n"
     ]
    }
   ],
   "source": [
    "#Ans9-> using list comprehesion print 1 to 100 numbers\n",
    "l=[x for x in range(0,101) if x%2!=0]\n",
    "print(l)"
   ]
  },
  {
   "cell_type": "code",
   "execution_count": null,
   "id": "25c7dff5-e3f9-4dba-9a18-ef8140a9780a",
   "metadata": {},
   "outputs": [],
   "source": []
  }
 ],
 "metadata": {
  "kernelspec": {
   "display_name": "Python 3 (ipykernel)",
   "language": "python",
   "name": "python3"
  },
  "language_info": {
   "codemirror_mode": {
    "name": "ipython",
    "version": 3
   },
   "file_extension": ".py",
   "mimetype": "text/x-python",
   "name": "python",
   "nbconvert_exporter": "python",
   "pygments_lexer": "ipython3",
   "version": "3.10.8"
  }
 },
 "nbformat": 4,
 "nbformat_minor": 5
}
